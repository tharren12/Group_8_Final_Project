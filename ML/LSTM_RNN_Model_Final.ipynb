{
 "cells": [
  {
   "cell_type": "code",
   "execution_count": null,
   "id": "71d04d30",
   "metadata": {},
   "outputs": [],
   "source": [
    "## starting model refinement and testing in this notebook \n",
    "\n",
    "# Import our dependencies\n",
    "import pandas as pd\n",
    "from datetime import datetime\n",
    "# Importing the libraries\n",
    "import numpy as np\n",
    "import matplotlib.pyplot as plt\n",
    "import pandas as pd\n",
    "from sklearn.metrics import r2_score\n",
    "\n",
    "# Read in our ramen data\n",
    "housing_data_df= pd.read_csv(\"../Resources/City_Zhvi_AllHomes_for_ML_Linear_Regression.csv\",parse_dates=True)\n",
    "housing_data_df"
   ]
  },
  {
   "cell_type": "code",
   "execution_count": null,
   "id": "c1cb0f48",
   "metadata": {},
   "outputs": [],
   "source": [
    "#Make a top city dataframe based on size rank of each city\n",
    "topcity = housing_data_df[['SizeRank', 'RegionName']].copy()\n",
    "topcity"
   ]
  },
  {
   "cell_type": "code",
   "execution_count": null,
   "id": "83982aad",
   "metadata": {},
   "outputs": [],
   "source": [
    "#Reduce the top city dataframe to the top 60 cities by size rank\n",
    "topcity = topcity.loc[0:59,'RegionName']"
   ]
  },
  {
   "cell_type": "code",
   "execution_count": null,
   "id": "55916f83",
   "metadata": {},
   "outputs": [],
   "source": [
    "#Covert city dataframe to list\n",
    "topcity.values.tolist()"
   ]
  },
  {
   "cell_type": "code",
   "execution_count": null,
   "id": "b16c4d00",
   "metadata": {},
   "outputs": [],
   "source": [
    "## start dropping unneeded columns\n",
    "## dropped RegionID, State, Metro, CountyName \n",
    "housing_data_df=housing_data_df.drop(housing_data_df.iloc[:, 0:3],axis = 1)\n",
    "housing_data_df.head()"
   ]
  },
  {
   "cell_type": "code",
   "execution_count": null,
   "id": "bba85c6f",
   "metadata": {},
   "outputs": [],
   "source": [
    "## drop remaining unneeded columns\n",
    "## dropped all months before January 2010\n",
    "housing_data_df=housing_data_df.drop(housing_data_df.iloc[:, 1:174],axis = 1)\n",
    "housing_data_df.head()"
   ]
  },
  {
   "cell_type": "code",
   "execution_count": null,
   "id": "1b9a5d81",
   "metadata": {},
   "outputs": [],
   "source": [
    "#Dropping all but first value in RegionName. City names appear more than once if there are cities in diffrent states \n",
    "# with the same name. Since we are looking for top cities we are ok to drop all occurances after the first.\n",
    "housing_data_df.drop_duplicates(subset=['RegionName'], inplace=True)\n",
    "housing_data_df"
   ]
  },
  {
   "cell_type": "code",
   "execution_count": null,
   "id": "aa6a043f",
   "metadata": {},
   "outputs": [],
   "source": [
    "#keep only rows with the cities in our top cities by size\n",
    "housing_topcity_df = housing_data_df[housing_data_df['RegionName'].isin(topcity)]\n",
    "housing_topcity_df"
   ]
  },
  {
   "cell_type": "code",
   "execution_count": null,
   "id": "b89325a8",
   "metadata": {},
   "outputs": [],
   "source": [
    "## transpose dates to rows\n",
    "housing_topcity_df=housing_topcity_df.transpose()\n",
    "housing_topcity_df.head()"
   ]
  },
  {
   "cell_type": "code",
   "execution_count": null,
   "id": "ff07f57b",
   "metadata": {},
   "outputs": [],
   "source": [
    "#move first row to column names\n",
    "housing_topcity_df.columns = housing_topcity_df.iloc[0]\n",
    "housing_topcity_df"
   ]
  },
  {
   "cell_type": "code",
   "execution_count": null,
   "id": "0b55cc97",
   "metadata": {},
   "outputs": [],
   "source": [
    "#remove first row shwowing city name\n",
    "housing_topcity_df = housing_topcity_df.iloc[1: , :]\n",
    "housing_topcity_df"
   ]
  },
  {
   "cell_type": "code",
   "execution_count": null,
   "id": "79c9db12",
   "metadata": {},
   "outputs": [],
   "source": [
    "## check that KNN imputer worked \n",
    "\n",
    "    \n",
    "for column in housing_topcity_df.columns:\n",
    "    print(f\"column {column} has {housing_topcity_df[column].isnull().sum()} null values\")"
   ]
  },
  {
   "cell_type": "code",
   "execution_count": null,
   "id": "cf36d1ed",
   "metadata": {},
   "outputs": [],
   "source": [
    "housing_topcity_df.dropna(axis=1)\n",
    "len(housing_topcity_df)"
   ]
  },
  {
   "cell_type": "code",
   "execution_count": null,
   "id": "3a03abd5",
   "metadata": {},
   "outputs": [],
   "source": [
    "zips= housing_topcity_df.columns.tolist()\n",
    "len(zips)"
   ]
  },
  {
   "cell_type": "code",
   "execution_count": null,
   "id": "6a5563ce",
   "metadata": {},
   "outputs": [],
   "source": [
    "housing_topcity_df.to_csv(\"housing_topcity.csv\", encoding='utf-8')"
   ]
  },
  {
   "cell_type": "code",
   "execution_count": null,
   "id": "169c3eb5",
   "metadata": {},
   "outputs": [],
   "source": [
    "# sf but area code is wrong, IN = 47401\n",
    "\n",
    "# removing last 20 for testing set 0:271\n",
    "training_set = housing_topcity_df.iloc[:103, 0:1].values\n",
    "training_set"
   ]
  },
  {
   "cell_type": "code",
   "execution_count": null,
   "id": "072b69ff",
   "metadata": {},
   "outputs": [],
   "source": [
    "len(training_set)"
   ]
  },
  {
   "cell_type": "code",
   "execution_count": null,
   "id": "f8a535b2",
   "metadata": {},
   "outputs": [],
   "source": [
    "# Feature Scaling\n",
    "from sklearn.preprocessing import MinMaxScaler\n",
    "sc = MinMaxScaler(feature_range = (0, 1))\n",
    "training_set_scaled = sc.fit_transform(training_set)"
   ]
  },
  {
   "cell_type": "code",
   "execution_count": null,
   "id": "490983ee",
   "metadata": {},
   "outputs": [],
   "source": [
    "# Creating a data structure with 60 timesteps and 1 output\n",
    "import numpy as np\n",
    "X_train = []\n",
    "y_train = []\n",
    "for i in range(60, 103):\n",
    "    X_train.append(training_set_scaled[i-60:i, 0])\n",
    "    y_train.append(training_set_scaled[i, 0])\n",
    "X_train, y_train = np.array(X_train), np.array(y_train)\n",
    "\n",
    "# Reshaping\n",
    "X_train = np.reshape(X_train, (X_train.shape[0], X_train.shape[1], 1))"
   ]
  },
  {
   "cell_type": "code",
   "execution_count": null,
   "id": "9f6972be",
   "metadata": {},
   "outputs": [],
   "source": [
    "len(X_train)"
   ]
  },
  {
   "cell_type": "code",
   "execution_count": null,
   "id": "365d83ec",
   "metadata": {},
   "outputs": [],
   "source": [
    "# Part 2 - Building the RNN\n",
    "\n",
    "# Importing the Keras libraries and packages\n",
    "from keras.models import Sequential\n",
    "from keras.layers import Dense\n",
    "from keras.layers import LSTM\n",
    "from keras.layers import Dropout"
   ]
  },
  {
   "cell_type": "code",
   "execution_count": null,
   "id": "8123a545",
   "metadata": {},
   "outputs": [],
   "source": [
    "# Initialising the RNN\n",
    "regressor = Sequential()\n",
    "\n",
    "# Adding the first LSTM layer and some Dropout regularisation\n",
    "regressor.add(LSTM(units = 50, return_sequences = True, input_shape = (X_train.shape[1], 1)))\n",
    "regressor.add(Dropout(0.2))\n",
    "\n",
    "# Adding a second LSTM layer and some Dropout regularisation\n",
    "regressor.add(LSTM(units = 50, return_sequences = True))\n",
    "regressor.add(Dropout(0.2))\n",
    "\n",
    "# Adding a third LSTM layer and some Dropout regularisation\n",
    "regressor.add(LSTM(units = 50, return_sequences = True))\n",
    "regressor.add(Dropout(0.2))\n",
    "\n",
    "# Adding a fourth LSTM layer and some Dropout regularisation\n",
    "regressor.add(LSTM(units = 50))\n",
    "regressor.add(Dropout(0.2))\n",
    "\n",
    "# Adding the output layer\n",
    "regressor.add(Dense(units = 1))\n",
    "\n",
    "# Compiling the RNN\n",
    "regressor.compile(optimizer = 'adam', loss = 'mean_squared_error')"
   ]
  },
  {
   "cell_type": "code",
   "execution_count": null,
   "id": "bfc2cfef",
   "metadata": {},
   "outputs": [],
   "source": [
    "# Part 3 - Making the predictions and visualising the results\n",
    "\n",
    "# Getting the real stock price\n",
    "dataset_test = pd.read_csv(\"housing_topcity.csv\")\n",
    "dataset_test.head()"
   ]
  },
  {
   "cell_type": "code",
   "execution_count": null,
   "id": "45d85e3a",
   "metadata": {},
   "outputs": [],
   "source": [
    "real_housing_price = dataset_test.iloc[:, 1:2].values\n",
    "real_housing_price"
   ]
  },
  {
   "cell_type": "code",
   "execution_count": null,
   "id": "1d5f8630",
   "metadata": {},
   "outputs": [],
   "source": [
    "training= dataset_test.iloc[0:103, 1:2]\n",
    "print(len(training))\n",
    "training"
   ]
  },
  {
   "cell_type": "code",
   "execution_count": null,
   "id": "3ad50391",
   "metadata": {},
   "outputs": [],
   "source": [
    "# make DF to set up input for testing \n",
    "\n",
    "training = housing_topcity_df.iloc[:, 0:1]\n",
    "training.reset_index(drop=True, inplace=True)\n",
    "training"
   ]
  },
  {
   "cell_type": "code",
   "execution_count": null,
   "id": "b8eaba2b",
   "metadata": {},
   "outputs": [],
   "source": [
    "test = housing_topcity_df.iloc[103:, 0:1]\n",
    "test.reset_index(drop=True, inplace=True)\n",
    "print(len(test))\n",
    "test"
   ]
  },
  {
   "cell_type": "code",
   "execution_count": null,
   "id": "7200d2df",
   "metadata": {},
   "outputs": [],
   "source": [
    "type(test)"
   ]
  },
  {
   "cell_type": "code",
   "execution_count": null,
   "id": "1d146787",
   "metadata": {},
   "outputs": [],
   "source": [
    "type(training)"
   ]
  },
  {
   "cell_type": "code",
   "execution_count": null,
   "id": "b41471e7",
   "metadata": {},
   "outputs": [],
   "source": [
    "# Getting the predicted house prices\n",
    "dataset_total = pd.concat((training, test), axis = 0)\n",
    "dataset_total"
   ]
  },
  {
   "cell_type": "code",
   "execution_count": null,
   "id": "e228553f",
   "metadata": {},
   "outputs": [],
   "source": [
    "inputs = dataset_total[len(dataset_total) - len(test) - 60:].values\n",
    "inputs = inputs.reshape(-1,1)\n",
    "inputs = sc.transform(inputs)"
   ]
  },
  {
   "cell_type": "code",
   "execution_count": null,
   "id": "66a101d5",
   "metadata": {},
   "outputs": [],
   "source": [
    "len(inputs)"
   ]
  },
  {
   "cell_type": "code",
   "execution_count": null,
   "id": "d00a7da9",
   "metadata": {},
   "outputs": [],
   "source": [
    "X_test = []\n",
    "\n",
    "for i in range(60, 80):\n",
    "    X_test.append(inputs[i-60:i, 0])\n",
    "X_test = np.array(X_test)\n",
    "X_test = np.reshape(X_test, (X_test.shape[0], X_test.shape[1], 1))\n",
    "predicted_housing_price = regressor.predict(X_test)\n",
    "predicted_housing_price = sc.inverse_transform(predicted_housing_price)"
   ]
  },
  {
   "cell_type": "code",
   "execution_count": null,
   "id": "e70b3f77",
   "metadata": {},
   "outputs": [],
   "source": [
    "predicted_housing_price"
   ]
  },
  {
   "cell_type": "code",
   "execution_count": null,
   "id": "02ab375f",
   "metadata": {},
   "outputs": [],
   "source": [
    "forgraph=real_housing_price[103:]\n",
    "forgraph"
   ]
  },
  {
   "cell_type": "code",
   "execution_count": null,
   "id": "bf6d5f46",
   "metadata": {},
   "outputs": [],
   "source": [
    "import matplotlib.pyplot as plt\n",
    "# Visualising the results\n",
    "plt.plot(forgraph, color = 'red', label = 'Real housing Price')\n",
    "plt.plot(predicted_housing_price, color = 'blue', label = 'Predicted housing Price')\n",
    "plt.title('New York Price Predictions')\n",
    "plt.xlabel('Time')\n",
    "plt.ylabel('Housing Price')\n",
    "plt.legend()\n",
    "plt.show()"
   ]
  },
  {
   "cell_type": "code",
   "execution_count": null,
   "id": "e53bf035",
   "metadata": {},
   "outputs": [],
   "source": [
    "from sklearn.metrics import mean_squared_error\n",
    "RNN_mse = mean_squared_error(forgraph,predicted_housing_price)\n",
    "RNN_rmse=np.sqrt(RNN_mse)\n",
    "print(\"mse :\",RNN_mse)\n",
    "print(\"rmse :\",RNN_rmse)\n",
    "\n",
    "from sklearn.metrics import mean_absolute_error\n",
    "RNN_MAE = mean_absolute_error(forgraph,predicted_housing_price)\n",
    "print(\"MAE :\",RNN_MAE)\n",
    "\n"
   ]
  },
  {
   "cell_type": "code",
   "execution_count": null,
   "id": "576e806d",
   "metadata": {},
   "outputs": [],
   "source": []
  }
 ],
 "metadata": {
  "kernelspec": {
   "display_name": "mlenv",
   "language": "python",
   "name": "mlenv"
  },
  "language_info": {
   "codemirror_mode": {
    "name": "ipython",
    "version": 3
   },
   "file_extension": ".py",
   "mimetype": "text/x-python",
   "name": "python",
   "nbconvert_exporter": "python",
   "pygments_lexer": "ipython3",
   "version": "3.7.11"
  }
 },
 "nbformat": 4,
 "nbformat_minor": 5
}
