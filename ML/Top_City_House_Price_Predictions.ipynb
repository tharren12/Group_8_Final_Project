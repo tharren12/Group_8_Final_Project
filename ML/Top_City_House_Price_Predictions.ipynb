{
 "cells": [
  {
   "cell_type": "code",
   "execution_count": null,
   "id": "d0967d7a",
   "metadata": {},
   "outputs": [],
   "source": [
    "# Import our dependencies and libraries\n",
    "import pandas as pd\n",
    "from datetime import datetime\n",
    "import numpy as np\n",
    "import matplotlib.pyplot as plt\n",
    "import pandas as pd\n",
    "from scipy import stats\n",
    "from sklearn.linear_model import LinearRegression\n",
    "\n",
    "# Read in our housing data\n",
    "housing_data_df= pd.read_csv(\"../Resources/City_Zhvi_AllHomes_for_ML_Linear_Regression.csv\",parse_dates=True)\n",
    "housing_data_df"
   ]
  },
  {
   "cell_type": "code",
   "execution_count": null,
   "id": "6ad4be37",
   "metadata": {},
   "outputs": [],
   "source": [
    "#Make a top city dataframe based on size rank of each city\n",
    "topcity = housing_data_df[['SizeRank', 'RegionName']].copy()\n",
    "topcity"
   ]
  },
  {
   "cell_type": "code",
   "execution_count": null,
   "id": "5dd7ebdd",
   "metadata": {},
   "outputs": [],
   "source": [
    "#Reduce the top city dataframe to the top 60 cities by size rank\n",
    "topcity = topcity.loc[0:59,'RegionName']"
   ]
  },
  {
   "cell_type": "code",
   "execution_count": null,
   "id": "0ff96397",
   "metadata": {},
   "outputs": [],
   "source": [
    "#Covert city dataframe to list\n",
    "topcity.values.tolist()"
   ]
  },
  {
   "cell_type": "code",
   "execution_count": null,
   "id": "4662debb",
   "metadata": {},
   "outputs": [],
   "source": [
    "## start dropping unneeded columns\n",
    "## dropped RegionID, State, Metro, CountyName \n",
    "housing_data_df=housing_data_df.drop(housing_data_df.iloc[:, 0:3],axis = 1)\n",
    "housing_data_df.head()"
   ]
  },
  {
   "cell_type": "code",
   "execution_count": null,
   "id": "67b616a3",
   "metadata": {},
   "outputs": [],
   "source": [
    "## drop remaining unneeded columns\n",
    "## dropped all months before January 2010\n",
    "housing_data_df=housing_data_df.drop(housing_data_df.iloc[:, 1:174],axis = 1)\n",
    "housing_data_df.head()"
   ]
  },
  {
   "cell_type": "code",
   "execution_count": null,
   "id": "7ca56c35",
   "metadata": {},
   "outputs": [],
   "source": [
    "#Dropping all but first value in RegionName. City names appear more than once if there are cities in diffrent states \n",
    "# with the same name. Since we are looking for top cities we are ok to drop all occurances after the first.\n",
    "housing_data_df.drop_duplicates(subset=['RegionName'], inplace=True)\n",
    "housing_data_df"
   ]
  },
  {
   "cell_type": "code",
   "execution_count": null,
   "id": "92231b6f",
   "metadata": {},
   "outputs": [],
   "source": [
    "#keep only rows with the cities in our top cities by size\n",
    "housing_topcity_df = housing_data_df[housing_data_df['RegionName'].isin(topcity)]\n",
    "housing_topcity_df"
   ]
  },
  {
   "cell_type": "code",
   "execution_count": null,
   "id": "84e07784",
   "metadata": {},
   "outputs": [],
   "source": [
    "## transpose dates to rows\n",
    "housing_topcity_df=housing_topcity_df.transpose()\n",
    "housing_topcity_df.head()"
   ]
  },
  {
   "cell_type": "code",
   "execution_count": null,
   "id": "38474989",
   "metadata": {},
   "outputs": [],
   "source": [
    "#move first row to column names\n",
    "housing_topcity_df.columns = housing_topcity_df.iloc[0]\n",
    "housing_topcity_df"
   ]
  },
  {
   "cell_type": "code",
   "execution_count": null,
   "id": "0f1f1b84",
   "metadata": {},
   "outputs": [],
   "source": [
    "#remove first row shwowing city name\n",
    "housing_topcity_df = housing_topcity_df.iloc[1: , :]\n",
    "housing_topcity_df"
   ]
  },
  {
   "cell_type": "code",
   "execution_count": null,
   "id": "2bc2b7f3",
   "metadata": {},
   "outputs": [],
   "source": [
    "# Reset index\n",
    "housing_topcity_df = housing_topcity_df.reset_index()\n",
    "housing_topcity_df.head()"
   ]
  },
  {
   "cell_type": "code",
   "execution_count": null,
   "id": "13ca0d6c",
   "metadata": {},
   "outputs": [],
   "source": [
    "#Rename date column to date\n",
    "housing_topcity_df.rename(columns={ housing_topcity_df.columns[0]: \"Date\" })"
   ]
  },
  {
   "cell_type": "code",
   "execution_count": null,
   "id": "c5481a65",
   "metadata": {},
   "outputs": [],
   "source": [
    "#iterate over columns to create a linear regression model for each city for the date range of 2010 to 2020\n",
    "#create an empty list to hold our house price predictions once generated\n",
    "\n",
    "housing_predictions = []\n",
    "\n",
    "#loop through each column after the date column \n",
    "\n",
    "for column in housing_topcity_df.columns[1:]:\n",
    "    \n",
    "    \n",
    "    X = housing_topcity_df.index.values.reshape(-1, 1)   \n",
    "\n",
    "    #convert X values to float type\n",
    "    x = X.astype(float)\n",
    "\n",
    "    Y = housing_topcity_df[column].values.reshape(-1, 1)   \n",
    "\n",
    "#convert Y value to float type\n",
    "    y = Y.astype(float)   \n",
    "\n",
    "    linear_regressor = LinearRegression()  # create object for the class\n",
    "    linear_regressor.fit(x, y)  # perform linear regression\n",
    "    Y_pred = linear_regressor.predict(X)  # make predictions\n",
    "    \n",
    "    #predict the value in 6 months from last data point - this will be equal to the average of the next year\n",
    "    x_new = np.arange(129).reshape((-1, 1)) \n",
    "    \n",
    "    #set the list to append only the last value predcited by the model which is the value 6 months from last actual data point\n",
    "    y_new = linear_regressor.predict(x_new)\n",
    "    y_new[-1][-1]\n",
    "    housing_predictions.append([column, y_new[-1][-1]])"
   ]
  },
  {
   "cell_type": "code",
   "execution_count": null,
   "id": "3c0c9fed",
   "metadata": {},
   "outputs": [],
   "source": [
    "#View the list of housing predictions generated for 6 months from last actual data point\n",
    "housing_predictions"
   ]
  },
  {
   "cell_type": "code",
   "execution_count": null,
   "id": "b995250f",
   "metadata": {},
   "outputs": [],
   "source": [
    "#convert regrresssion prediction results to a dataframe\n",
    "future_prediction_df = pd.DataFrame(housing_predictions)\n",
    "future_prediction_df"
   ]
  },
  {
   "cell_type": "code",
   "execution_count": null,
   "id": "232eede4",
   "metadata": {},
   "outputs": [],
   "source": [
    "#renaming future price predcition column\n",
    "future_prediction_df.columns = ['City', 'Future Price']\n",
    "future_prediction_df"
   ]
  },
  {
   "cell_type": "code",
   "execution_count": null,
   "id": "ccc81840",
   "metadata": {},
   "outputs": [],
   "source": [
    "#changing Future Price column to an integer\n",
    "future_prediction_df['Future Price'] = future_prediction_df['Future Price'].astype(int)\n",
    "future_prediction_df"
   ]
  },
  {
   "cell_type": "code",
   "execution_count": null,
   "id": "a6288540",
   "metadata": {},
   "outputs": [],
   "source": [
    "#convert result to CSV file\n",
    "next_month_prediction_df.to_csv('../Resources/future_housing_prediction.csv')"
   ]
  },
  {
   "cell_type": "code",
   "execution_count": null,
   "id": "fd049b1b",
   "metadata": {},
   "outputs": [],
   "source": []
  }
 ],
 "metadata": {
  "kernelspec": {
   "display_name": "mlenv",
   "language": "python",
   "name": "mlenv"
  },
  "language_info": {
   "codemirror_mode": {
    "name": "ipython",
    "version": 3
   },
   "file_extension": ".py",
   "mimetype": "text/x-python",
   "name": "python",
   "nbconvert_exporter": "python",
   "pygments_lexer": "ipython3",
   "version": "3.7.11"
  }
 },
 "nbformat": 4,
 "nbformat_minor": 5
}
