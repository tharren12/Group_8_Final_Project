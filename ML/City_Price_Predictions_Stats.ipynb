{
 "cells": [
  {
   "cell_type": "code",
   "execution_count": null,
   "id": "d0967d7a",
   "metadata": {},
   "outputs": [],
   "source": [
    "# Import our dependencies\n",
    "import pandas as pd\n",
    "from datetime import datetime\n",
    "# Importing the libraries\n",
    "import numpy as np\n",
    "import matplotlib.pyplot as plt\n",
    "import pandas as pd\n",
    "from scipy import stats\n",
    "from sklearn.linear_model import LinearRegression\n",
    "from sklearn.metrics import mean_squared_error\n",
    "import math\n",
    "from sklearn.metrics import r2_score\n",
    "from sklearn.metrics import mean_absolute_error\n",
    "\n",
    "# Read in our housing data\n",
    "housing_data_df= pd.read_csv(\"../Resources/City_Zhvi_AllHomes_for_ML_Linear_Regression.csv\",parse_dates=True)\n",
    "housing_data_df"
   ]
  },
  {
   "cell_type": "code",
   "execution_count": null,
   "id": "6ad4be37",
   "metadata": {},
   "outputs": [],
   "source": [
    "#Make a top city dataframe based on size rank of each city\n",
    "topcity = housing_data_df[['SizeRank', 'RegionName']].copy()\n",
    "topcity"
   ]
  },
  {
   "cell_type": "code",
   "execution_count": null,
   "id": "5dd7ebdd",
   "metadata": {},
   "outputs": [],
   "source": [
    "#Reduce the top city dataframe to the top 60 cities by size rank\n",
    "topcity = topcity.loc[0:59,'RegionName']"
   ]
  },
  {
   "cell_type": "code",
   "execution_count": null,
   "id": "0ff96397",
   "metadata": {},
   "outputs": [],
   "source": [
    "#Covert city dataframe to list\n",
    "topcity.values.tolist()"
   ]
  },
  {
   "cell_type": "code",
   "execution_count": null,
   "id": "4662debb",
   "metadata": {},
   "outputs": [],
   "source": [
    "## start dropping unneeded columns\n",
    "## dropped RegionID, State, Metro, CountyName \n",
    "housing_data_df=housing_data_df.drop(housing_data_df.iloc[:, 0:3],axis = 1)\n",
    "housing_data_df.head()"
   ]
  },
  {
   "cell_type": "code",
   "execution_count": null,
   "id": "67b616a3",
   "metadata": {},
   "outputs": [],
   "source": [
    "## drop remaining unneeded columns\n",
    "## dropped all months before January 2010\n",
    "housing_data_df=housing_data_df.drop(housing_data_df.iloc[:, 1:174],axis = 1)\n",
    "housing_data_df.head()"
   ]
  },
  {
   "cell_type": "code",
   "execution_count": null,
   "id": "7ca56c35",
   "metadata": {},
   "outputs": [],
   "source": [
    "#Dropping all but first value in RegionName. City names appear more than once if there are cities in diffrent states \n",
    "# with the same name. Since we are looking for top cities we are ok to drop all occurances after the first.\n",
    "housing_data_df.drop_duplicates(subset=['RegionName'], inplace=True)\n",
    "housing_data_df"
   ]
  },
  {
   "cell_type": "code",
   "execution_count": null,
   "id": "92231b6f",
   "metadata": {},
   "outputs": [],
   "source": [
    "#keep only rows with the cities in our top cities by size\n",
    "housing_topcity_df = housing_data_df[housing_data_df['RegionName'].isin(topcity)]\n",
    "housing_topcity_df"
   ]
  },
  {
   "cell_type": "code",
   "execution_count": null,
   "id": "84e07784",
   "metadata": {},
   "outputs": [],
   "source": [
    "## transpose dates to rows\n",
    "housing_topcity_df=housing_topcity_df.transpose()\n",
    "housing_topcity_df.head()"
   ]
  },
  {
   "cell_type": "code",
   "execution_count": null,
   "id": "38474989",
   "metadata": {},
   "outputs": [],
   "source": [
    "#move first row to column names\n",
    "housing_topcity_df.columns = housing_topcity_df.iloc[0]\n",
    "housing_topcity_df"
   ]
  },
  {
   "cell_type": "code",
   "execution_count": null,
   "id": "0f1f1b84",
   "metadata": {},
   "outputs": [],
   "source": [
    "#remove first row shwowing city name\n",
    "housing_topcity_df = housing_topcity_df.iloc[1: , :]\n",
    "housing_topcity_df"
   ]
  },
  {
   "cell_type": "code",
   "execution_count": null,
   "id": "2bc2b7f3",
   "metadata": {},
   "outputs": [],
   "source": [
    "# Reset index\n",
    "housing_topcity_df = housing_topcity_df.reset_index()\n",
    "housing_topcity_df.head()"
   ]
  },
  {
   "cell_type": "code",
   "execution_count": null,
   "id": "13ca0d6c",
   "metadata": {},
   "outputs": [],
   "source": [
    "#Rename date column to date\n",
    "housing_topcity_df.rename(columns={ housing_topcity_df.columns[0]: \"Date\" })"
   ]
  },
  {
   "cell_type": "code",
   "execution_count": null,
   "id": "c5481a65",
   "metadata": {},
   "outputs": [],
   "source": [
    "#iterate over columns to \n",
    "\n",
    "housing_predictions = []\n",
    "r_squared = []\n",
    "mse = []\n",
    "rmse = []\n",
    "mae = []\n",
    "stats = []\n",
    "\n",
    "for column in housing_topcity_df.columns[1:]:\n",
    "    \n",
    "    \n",
    "    X = housing_topcity_df.index.values.reshape(-1, 1)   \n",
    "#converted X to float values\n",
    "    x = X.astype(float)\n",
    "\n",
    "    Y = housing_topcity_df[column].values.reshape(-1, 1)   \n",
    "\n",
    "#converted Y to float values\n",
    "    y = Y.astype(float)   \n",
    "\n",
    "    linear_regressor = LinearRegression()  # create object for the class\n",
    "    linear_regressor.fit(x, y)  # perform linear regression\n",
    "    Y_pred = linear_regressor.predict(X)  # make predictions\n",
    "    \n",
    "    x_new = np.arange(123).reshape((-1, 1))\n",
    "\n",
    "    r2 = r2_score(y, Y_pred)\n",
    "    mse = mean_squared_error(y, Y_pred)\n",
    "    rmse = np.sqrt(mse)\n",
    "    mae = mean_absolute_error(y, Y_pred)\n",
    "    y_new = linear_regressor.predict(x_new)\n",
    "    y_new\n",
    "    housing_predictions.append([column, y_new])\n",
    "    r_squared.append([column, r2])\n",
    "    stats.append([column, r2, mse, rmse, mae])"
   ]
  },
  {
   "cell_type": "code",
   "execution_count": null,
   "id": "3c0c9fed",
   "metadata": {},
   "outputs": [],
   "source": [
    "#housing_predictions\n",
    "r_squared"
   ]
  },
  {
   "cell_type": "code",
   "execution_count": null,
   "id": "b995250f",
   "metadata": {},
   "outputs": [],
   "source": [
    "#convert regrresssion results to a dataframe\n",
    "r_squared_df = pd.DataFrame(r_squared)\n",
    "r_squared_df"
   ]
  },
  {
   "cell_type": "code",
   "execution_count": null,
   "id": "232eede4",
   "metadata": {},
   "outputs": [],
   "source": [
    "#r_squared_df.rename([0]:'City', [1]:'Next Month Price', inplace = True)\n",
    "r_squared_df.columns = ['City', 'R Squared']\n",
    "r_squared_df"
   ]
  },
  {
   "cell_type": "code",
   "execution_count": null,
   "id": "4cf1ce71",
   "metadata": {},
   "outputs": [],
   "source": [
    "r_squared_df = r_squared_df.sort_values(['R Squared'], ascending=[False])\n",
    "r_squared_df"
   ]
  },
  {
   "cell_type": "code",
   "execution_count": null,
   "id": "f95da551",
   "metadata": {},
   "outputs": [],
   "source": [
    "stats"
   ]
  },
  {
   "cell_type": "code",
   "execution_count": null,
   "id": "a83ac0d9",
   "metadata": {},
   "outputs": [],
   "source": [
    "#convert stats results to a dataframe\n",
    "stats_df = pd.DataFrame(stats)\n",
    "stats_df"
   ]
  },
  {
   "cell_type": "code",
   "execution_count": null,
   "id": "15db7f6a",
   "metadata": {},
   "outputs": [],
   "source": [
    "#rename columns in stats_df\n",
    "stats_df.columns = ['City', 'R Squared', 'MSE', 'RMSE', 'MAE']\n",
    "stats_df"
   ]
  },
  {
   "cell_type": "code",
   "execution_count": null,
   "id": "d94774a8",
   "metadata": {},
   "outputs": [],
   "source": [
    "stats_df = stats_df.sort_values(['R Squared'], ascending=[False])\n",
    "stats_df"
   ]
  },
  {
   "cell_type": "code",
   "execution_count": null,
   "id": "bad748c2",
   "metadata": {},
   "outputs": [],
   "source": [
    "#changing MSE column to an integer\n",
    "stats_df['MSE'] = stats_df['MSE'].astype(int)\n",
    "stats_df"
   ]
  },
  {
   "cell_type": "code",
   "execution_count": null,
   "id": "b6b5c22d",
   "metadata": {},
   "outputs": [],
   "source": [
    "plt.scatter (housing_topcity_df.index, housing_topcity_df['New York'])\n",
    "plt.show()"
   ]
  },
  {
   "cell_type": "code",
   "execution_count": null,
   "id": "c6e5420a",
   "metadata": {},
   "outputs": [],
   "source": [
    "X = housing_topcity_df.index.values.reshape(-1, 1)   #X = CALI_df.iloc[:, 0].values.reshape(-1, 1)  # values converts it into a numpy array\n",
    "\n",
    "#converted X to float values\n",
    "x = X.astype(float)\n",
    "\n",
    "Y = housing_topcity_df['New York'].values.reshape(-1, 1)   \n",
    "\n",
    "#converted Y to float values\n",
    "y = Y.astype(float)   #Y = CALI_df.iloc[:, 1].values.reshape(-1, 1)  # -1 means that calculate the dimension of rows, but have 1 column\n",
    "\n",
    "linear_regressor = LinearRegression()  # create object for the class\n",
    "linear_regressor.fit(x, y)  # perform linear regression\n",
    "Y_pred = linear_regressor.predict(X)  # make predictions"
   ]
  },
  {
   "cell_type": "code",
   "execution_count": null,
   "id": "4e2e4aa4",
   "metadata": {},
   "outputs": [],
   "source": [
    "plt.scatter(x, y)\n",
    "plt.plot(x, Y_pred, color='red')\n",
    "plt.title('New York Price Predictions')\n",
    "plt.ylabel('Housing Price')\n",
    "plt.xlabel('Time')\n",
    "plt.show()\n"
   ]
  },
  {
   "cell_type": "code",
   "execution_count": null,
   "id": "a6288540",
   "metadata": {},
   "outputs": [],
   "source": [
    "#convert result to CSV file\n",
    "stats_df.to_csv('../ML/Linear_regression_R_Squared.csv')"
   ]
  },
  {
   "cell_type": "code",
   "execution_count": null,
   "id": "fd049b1b",
   "metadata": {},
   "outputs": [],
   "source": []
  }
 ],
 "metadata": {
  "kernelspec": {
   "display_name": "mlenv",
   "language": "python",
   "name": "mlenv"
  },
  "language_info": {
   "codemirror_mode": {
    "name": "ipython",
    "version": 3
   },
   "file_extension": ".py",
   "mimetype": "text/x-python",
   "name": "python",
   "nbconvert_exporter": "python",
   "pygments_lexer": "ipython3",
   "version": "3.7.11"
  }
 },
 "nbformat": 4,
 "nbformat_minor": 5
}
